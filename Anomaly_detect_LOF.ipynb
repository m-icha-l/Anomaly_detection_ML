{
 "cells": [
  {
   "cell_type": "code",
   "execution_count": null,
   "id": "5462ac03-4839-4442-857c-8d54de0682c5",
   "metadata": {},
   "outputs": [],
   "source": [
    "from sklearn.ensemble import LocalOutlierFacto\n",
    "import pandas as pd\n",
    "import matplotlib.pyplot as plt  \n",
    "import numpy as np\n",
    "import logging\n",
    "from funs import *\n",
    "\n",
    "log(\"START\",level = (\"start\",\"Isolation_forest\"))"
   ]
  },
  {
   "cell_type": "markdown",
   "id": "1ddf5016-6a1c-40c2-85bd-8c73dc150526",
   "metadata": {},
   "source": [
    "\n",
    "<div style=\"margin-left: 38px; font-size: 30px; font-family: 'Segoe UI', Tahoma, Geneva, Verdana, sans-serif; margin-top: 20px; line-height: 1.6;\">\n",
    "    <div>Impot danych z wcześniejszego parsowania w Anomaly_detect_ML</div>\n",
    "</div>"
   ]
  },
  {
   "cell_type": "code",
   "execution_count": null,
   "id": "5c049d0f-0e18-4300-8121-37d9e2605eca",
   "metadata": {},
   "outputs": [],
   "source": [
    "df_scaled = pd.read_hdf('parsed_data/with_repetitions_merged_CICIDS2017.h5', key='df_scaled')\n",
    "df_labels = pd.read_hdf('parsed_data/with_repetitions_merged_CICIDS2017.h5', key='df_labels')"
   ]
  },
  {
   "cell_type": "code",
   "execution_count": null,
   "id": "743bf045-4150-4bec-9459-f42591fdafae",
   "metadata": {},
   "outputs": [],
   "source": []
  }
 ],
 "metadata": {
  "kernelspec": {
   "display_name": "Python (venv_AD)",
   "language": "python",
   "name": "venv_ad"
  },
  "language_info": {
   "codemirror_mode": {
    "name": "ipython",
    "version": 3
   },
   "file_extension": ".py",
   "mimetype": "text/x-python",
   "name": "python",
   "nbconvert_exporter": "python",
   "pygments_lexer": "ipython3",
   "version": "3.11.2"
  }
 },
 "nbformat": 4,
 "nbformat_minor": 5
}
