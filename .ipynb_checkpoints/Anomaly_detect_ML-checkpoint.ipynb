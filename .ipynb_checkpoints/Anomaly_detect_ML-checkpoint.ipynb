{
 "cells": [
  {
   "cell_type": "code",
   "execution_count": 1,
   "id": "42c3f311-37e1-4482-ab91-4f154ecb888f",
   "metadata": {},
   "outputs": [
    {
     "name": "stdout",
     "output_type": "stream",
     "text": [
      "Isolation_forest\n"
     ]
    }
   ],
   "source": [
    "from sklearn.preprocessing import StandardScaler\n",
    "from sklearn.ensemble import IsolationForest\n",
    "from sklearn.metrics import classification_report\n",
    "import pandas as pd\n",
    "import matplotlib.pyplot as plt  \n",
    "import numpy as np\n",
    "import logging\n",
    "from datetime import datetime\n",
    "from funs import *\n",
    "\n",
    "log(\"START\",level = (\"start\",\"Isolation_forest\"))"
   ]
  },
  {
   "cell_type": "markdown",
   "id": "3bc5fcd0-9cfe-42a7-8866-98160b4989cd",
   "metadata": {},
   "source": [
    "<div style=\"\n",
    "    text-align: center;\n",
    "    font-weight: bold;\n",
    "    font-size: 52px;\n",
    "    font-family: 'Segoe UI', Tahoma, Geneva, Verdana, sans-serif;\n",
    "    margin-top: 50px;\n",
    "    margin-bottom: 30px;\n",
    "    padding: 25px 0;\n",
    "    color: #ffffff;\n",
    "    background: linear-gradient(90deg, #0f0f0f 0%, #1e1e1e 100%);\n",
    "    border-top: 4px solid #4ec9b0;\n",
    "    border-bottom: 4px solid #4ec9b0;\n",
    "    box-shadow: 0 0 100px rgba(78, 201, 176, 0.3), 0 2px 10px rgba(0,0,0,0.6);\n",
    "    letter-spacing: 1px;\n",
    "\">\n",
    "  Przygotowanie danych\n",
    "</div>\n"
   ]
  },
  {
   "cell_type": "markdown",
   "id": "8d5dd52f-c0ce-4141-be2a-1318b4ba8e21",
   "metadata": {},
   "source": [
    "\n",
    "\n",
    "<div style=\"text-align: center; font-weight: bold; font-size: 35px; font-family: 'Segoe UI', Tahoma, Geneva, Verdana, sans-serif; margin-top: 30px; margin-bottom: 20px; padding: 10px 0; border-top: 2px solid #666; border-bottom: 2px solid #666;\">\n",
    "  Przygotowania danych normalnego ruchu do trenowania modelu\n",
    "</div>\n",
    "\n",
    "<div style=\"font-size: 30px; font-family: 'Segoe UI', Tahoma, Geneva, Verdana, sans-serif; margin-top: 20px; line-height: 1.6;\">\n",
    "<ul style=\"margin-left: 20px;\">\n",
    "    1. df_1 – Monday-WorkingHours.pcap_ISCX.csv\n",
    "  </ul>\n",
    "</div>\n"
   ]
  },
  {
   "cell_type": "code",
   "execution_count": 9,
   "id": "5abcf886-84f9-419c-9100-82a4f260aaae",
   "metadata": {
    "scrolled": true
   },
   "outputs": [
    {
     "name": "stdout",
     "output_type": "stream",
     "text": [
      "Lenght of dataframe befour preperation: \n",
      "529918\n",
      "Droping Lable and redundancy\n",
      "Number of NANS\n",
      "64\n",
      "Colums with inf: \n",
      "['Flow Bytes/s']\n",
      "Number of NANS and infs: \n",
      "13\n",
      "Lenght of dataframe after preperation: \n",
      "400676\n",
      "Index(['Flow Duration', 'Total Fwd Packets', 'Total Backward Packets',\n",
      "       'Total Length of Fwd Packets', 'Total Length of Bwd Packets',\n",
      "       'Fwd Packet Length Max', 'Fwd Packet Length Min',\n",
      "       'Fwd Packet Length Mean', 'Fwd Packet Length Std',\n",
      "       'Bwd Packet Length Max', 'Bwd Packet Length Mean',\n",
      "       'Bwd Packet Length Std', 'Flow Bytes/s', 'Flow IAT Mean',\n",
      "       'Flow IAT Std', 'Flow IAT Max', 'Flow IAT Min', 'Fwd IAT Total',\n",
      "       'Repetition num'],\n",
      "      dtype='object')\n"
     ]
    }
   ],
   "source": [
    "# Wczytanie danych\n",
    "df_1 = pd.read_csv(\"../datasets/CIC-IDS2017/MachineLearningCVE/Monday-WorkingHours.pcap_ISCX.csv\", low_memory=False)\n",
    "print(\"Lenght of dataframe befour preperation: \")\n",
    "print(len(df_1))\n",
    "\n",
    "df_1.columns = df_1.columns.str.strip()\n",
    "print(\"Droping Lable and redundancy\")\n",
    "\n",
    "\n",
    "###############################################              1\n",
    "columns_to_keep = [\n",
    "    'Bwd Packet Length Max',\n",
    "    'Bwd Packet Length Mean',\n",
    "    'Bwd Packet Length Std',\n",
    "    'Flow Bytes/s',\n",
    "    'Flow Duration',\n",
    "    'Flow IAT Max',\n",
    "    'Flow IAT Mean',\n",
    "    'Flow IAT Min',\n",
    "    'Flow IAT Std',\n",
    "    'Fwd IAT Total',\n",
    "    'Fwd Packet Length Max',\n",
    "    'Fwd Packet Length Mean',\n",
    "    'Fwd Packet Length Min',\n",
    "    'Fwd Packet Length Std',\n",
    "    'Total Backward Packets',\n",
    "    'Total Fwd Packets',\n",
    "    'Total Length of Bwd Packets',\n",
    "    'Total Length of Fwd Packets',\n",
    "    'Label',\n",
    "    \"Fwd Header Length.1\",\n",
    "]\n",
    "\n",
    "# Drop columns NOT in columns_to_keep (inplace)\n",
    "cols_to_drop = [col for col in df_1.columns if col not in columns_to_keep]\n",
    "df_1.drop(columns=cols_to_drop, inplace=True)\n",
    "\n",
    "###############################################              1\n",
    "\n",
    "\n",
    "\n",
    "df_1.drop([\"Fwd Header Length.1\", \"Label\"], axis=1, inplace=True)\n",
    "\n",
    "\n",
    "print(\"Number of NANS\")\n",
    "print(df_1.isna().any(axis=1).sum())\n",
    "\n",
    "\n",
    "##########################################################################################              2\n",
    "# Count duplicate rows and add a column 'Repetition num' with the count\n",
    "df_counts = df_1.groupby(list(df_1.columns)).size().reset_index(name='Repetition num')\n",
    "\n",
    "# Replace original df with grouped version (deduplicated with repetition count)\n",
    "df_1.drop(df_1.index, inplace=True)  # Clear existing rows in df\n",
    "for col in df_counts.columns:\n",
    "    df_1[col] = df_counts[col].values  # Fill df with new data\n",
    "##########################################################################################              2\n",
    "\n",
    "\n",
    "\n",
    "num_cols = df_1.select_dtypes(include=[np.number]).columns\n",
    "inf_mask = np.isinf(df_1[num_cols])\n",
    "columns_with_inf = df_1.columns[inf_mask.any()]\n",
    "print(\"Colums with inf: \")\n",
    "print(columns_with_inf.tolist())\n",
    "\n",
    "df_1.replace([np.inf, -np.inf], np.nan, inplace=True)\n",
    "\n",
    "print(\"Number of NANS and infs: \")\n",
    "print(df_1.isna().any(axis=1).sum())\n",
    "df_1.dropna(inplace=True)\n",
    "df_1 = df_1.reset_index(drop=True)\n",
    "print(\"Lenght of dataframe after preperation: \")\n",
    "print(len(df_1))\n",
    "\n",
    "print(df_1.columns)"
   ]
  },
  {
   "cell_type": "markdown",
   "id": "fff48981-29d9-4b70-a921-23e4aa329ed5",
   "metadata": {},
   "source": [
    "<div style=\"margin-left: 38px; font-size: 30px; font-family: 'Segoe UI', Tahoma, Geneva, Verdana, sans-serif; margin-top: 20px; line-height: 1.6;\">\n",
    "    <div>1.2 Skalowanie danych treningowych</div>\n",
    "</div>"
   ]
  },
  {
   "cell_type": "code",
   "execution_count": null,
   "id": "b7b13411-be04-49d4-b5ee-64b243a49828",
   "metadata": {},
   "outputs": [],
   "source": [
    "scaler = StandardScaler()\n",
    "df_1_scaled = pd.DataFrame(\n",
    "    scaler.fit_transform(df_1),\n",
    "    columns=df_1.columns  \n",
    ")"
   ]
  },
  {
   "cell_type": "markdown",
   "id": "58b59202-3ccd-43ea-a75b-b03830813aa1",
   "metadata": {},
   "source": [
    "<div style=\"margin-left: 38px; font-size: 30px; font-family: 'Segoe UI', Tahoma, Geneva, Verdana, sans-serif; margin-top: 20px; line-height: 1.6;\">\n",
    "    <div>1.3 Skalowanie danych - wizualizacja dzialania skalowania</div>\n",
    "</div>"
   ]
  },
  {
   "cell_type": "code",
   "execution_count": null,
   "id": "cabcabf6-14d5-4848-85a1-2a8c4235ca48",
   "metadata": {},
   "outputs": [],
   "source": [
    "columns_to_plot = df_1.columns[:4]\n",
    "\n",
    "# Ustawienia siatki 2x4 (2 wiersze: oryginał, skalowane)\n",
    "fig, axes = plt.subplots(2, 4, figsize=(20, 8))\n",
    "fig.suptitle(\"Porównanie wartości przed i po skalowaniu\", fontsize=16)\n",
    "\n",
    "for i, col in enumerate(columns_to_plot):\n",
    "    # Oryginalne dane - wykres liniowy\n",
    "    axes[0, i].plot(df_1[col].values, color='steelblue')\n",
    "    axes[0, i].set_title(f\"Oryginalne: {col}\", fontsize=10)\n",
    "    axes[0, i].tick_params(axis='x', rotation=45)\n",
    "\n",
    "    # Skalowane dane - wykres liniowy\n",
    "    axes[1, i].plot(df_1_scaled[col].values, color='orange')\n",
    "    axes[1, i].set_title(f\"Skalowane: {col}\", fontsize=10)\n",
    "    axes[1, i].tick_params(axis='x', rotation=45)\n",
    "\n",
    "plt.tight_layout(rect=[0, 0.03, 1, 0.95])\n",
    "plt.show()\n",
    "\n",
    "print(df_1_scaled[df_1_scaled[\"Total Fwd Packets\"] > 500][\"Total Fwd Packets\"])\n"
   ]
  },
  {
   "cell_type": "markdown",
   "id": "33322af4-e00c-4739-8803-127c5a42425a",
   "metadata": {},
   "source": [
    "<div style=\"text-align: center; font-weight: bold; font-size: 35px; font-family: 'Segoe UI', Tahoma, Geneva, Verdana, sans-serif; margin-top: 30px; margin-bottom: 20px; padding: 10px 0; border-top: 2px solid #666; border-bottom: 2px solid #666;\">\n",
    "  Przygotowanie dataframe'ów testowych zawierająch różne ataki\n",
    "</div>\n",
    "\n",
    "\n",
    "\n",
    "<div style=\"font-size: 30px; font-family: 'Segoe UI', Tahoma, Geneva, Verdana, sans-serif; margin-top: 20px; line-height: 1.6;\">\n",
    "    <li>2. Przygotowanie danych z Tuesday-WorkingHours.pcap_ISCX.csv</li>\n",
    "    <ul style=\"margin-left: 15px;\">\n",
    "        <li>df_2 - dane \"Tuesday-WorkingHours\"</li>\n",
    "        <li>df_2_5 - dane \"Tuesday-WorkingHours\" tylko z atakami</li>\n",
    "    </ul>\n",
    "</div>"
   ]
  },
  {
   "cell_type": "code",
   "execution_count": null,
   "id": "1e8205af-7b17-48bd-982b-395f2a190d58",
   "metadata": {},
   "outputs": [],
   "source": [
    "df_2 = pd.read_csv(\"../datasets/CIC-IDS2017/MachineLearningCVE/Tuesday-WorkingHours.pcap_ISCX.csv\", low_memory=False)\n",
    "\n",
    "df_2_labels, df_2_5 = prep_df(df_2,labels = True, only_a = True)\n",
    "print(df_2.columns)"
   ]
  },
  {
   "cell_type": "markdown",
   "id": "76a28e61-0516-45cc-a5b9-bbf4f4671b5a",
   "metadata": {},
   "source": [
    "<div style=\"font-size: 30px; font-family: 'Segoe UI', Tahoma, Geneva, Verdana, sans-serif; margin-top: 20px; line-height: 1.6;\">\n",
    "    <li>3. Przygotowanie danych z Wednesday-WorkingHours.pcap_ISCX.csv</li>\n",
    "    <ul style=\"margin-left: 15px;\">\n",
    "        <li>df_3 - dane \"Wednesday-WorkingHours\"</li>\n",
    "        <li>df_3_5 - dane \"Wednesday-WorkingHours\" tylko z różnymi atakami</li>\n",
    "    </ul>\n",
    "</div>"
   ]
  },
  {
   "cell_type": "code",
   "execution_count": null,
   "id": "73bd13f8-61d3-402a-b2fd-eedda3f034be",
   "metadata": {},
   "outputs": [],
   "source": [
    "df_3 = pd.read_csv(\"../datasets/CIC-IDS2017/MachineLearningCVE/Wednesday-workingHours.pcap_ISCX.csv\", low_memory=False)\n",
    "\n",
    "\n",
    "df_3_labels, df_3_5 = prep_df(df_3,labels = True, only_a = True)"
   ]
  },
  {
   "cell_type": "markdown",
   "id": "2e347805-09bd-45f3-894e-32fc60364907",
   "metadata": {},
   "source": [
    "<div style=\"font-size: 30px; font-family: 'Segoe UI', Tahoma, Geneva, Verdana, sans-serif; margin-top: 20px; line-height: 1.6;\">\n",
    "    <li>4. Przygotowanie danych z czwartku df_4:</li>\n",
    "    <ul style=\"margin-left: 15px;\">\n",
    "        <li> df_4_1 - Thursday-WorkingHours-Morning-WebAttacks.pcap_ISCX.csv</li>\n",
    "    </ul>\n",
    "</div>"
   ]
  },
  {
   "cell_type": "code",
   "execution_count": null,
   "id": "448334cb-96b5-4be6-b97c-01524d583f02",
   "metadata": {},
   "outputs": [],
   "source": [
    "df_4_1 = pd.read_csv(\"../datasets/CIC-IDS2017/MachineLearningCVE/Thursday-WorkingHours-Morning-WebAttacks.pcap_ISCX.csv\", low_memory=False)\n",
    "\n",
    "df_4_1_labels = prep_df(df_4_1,labels = True)"
   ]
  },
  {
   "cell_type": "markdown",
   "id": "3e2c5627-3b9e-49c6-8553-cb18572b8594",
   "metadata": {},
   "source": [
    "<div style=\"font-size: 30px; font-family: 'Segoe UI', Tahoma, Geneva, Verdana, sans-serif; margin-top: 20px; line-height: 1.6;\">\n",
    "    <ul style=\"margin-left: 15px;\">\n",
    "        <li>  df_4_2 - Thursday-WorkingHours-Afternoon-Infilteration.pcap_ISCX & df_4 = df_4_1 + df_4_2</li>\n",
    "    </ul>\n",
    "</div>"
   ]
  },
  {
   "cell_type": "code",
   "execution_count": null,
   "id": "26d1b58c-7653-4a4b-a33b-724af72d9a67",
   "metadata": {},
   "outputs": [],
   "source": [
    "df_4_2 = pd.read_csv(\"../datasets/CIC-IDS2017/MachineLearningCVE/Thursday-WorkingHours-Afternoon-Infilteration.pcap_ISCX.csv\", low_memory=False)\n",
    "\n",
    "df_4_2_labels = prep_df(df_4_2,labels = True)\n",
    "\n",
    "df_4 = pd.concat([df_4_1,df_4_2], ignore_index = True)\n",
    "df_4_labels = pd.concat([df_4_1_labels,df_4_2_labels], ignore_index = True)\n",
    "\n",
    "print(\"Flows during the day: \", len(df_4), len(df_4_labels))"
   ]
  },
  {
   "cell_type": "markdown",
   "id": "c70046d7-1e82-44a8-84d9-cf9a2024e339",
   "metadata": {},
   "source": [
    "<div style=\"font-size: 30px; font-family: 'Segoe UI', Tahoma, Geneva, Verdana, sans-serif; margin-top: 20px; line-height: 1.6;\">\n",
    "    <li>5. Przygotowanie danych z piątku df_4:</li>\n",
    "    <ul style=\"margin-left: 15px;\">\n",
    "        <li> df_5_1 - Friday-WorkingHours-Morning.pcap_ISCX</li>\n",
    "    </ul>\n",
    "</div>"
   ]
  },
  {
   "cell_type": "code",
   "execution_count": null,
   "id": "97282ecf-9d68-4b7f-9c08-1ba60868df95",
   "metadata": {},
   "outputs": [],
   "source": [
    "df_5_1 = pd.read_csv(\"../datasets/CIC-IDS2017/MachineLearningCVE/Friday-WorkingHours-Morning.pcap_ISCX.csv\", low_memory=False)\n",
    "\n",
    "df_5_1_labels = prep_df(df_5_1,labels = True)"
   ]
  },
  {
   "cell_type": "markdown",
   "id": "2d8dd6c5-98de-4f9a-a814-6a7af50cc2b5",
   "metadata": {},
   "source": [
    "<div style=\"font-size: 30px; font-family: 'Segoe UI', Tahoma, Geneva, Verdana, sans-serif; margin-top: 20px; line-height: 1.6;\">\n",
    "    <ul style=\"margin-left: 15px;\">\n",
    "        <li>  df_5_2 - Friday-WorkingHours-Afternoon-PortScan.pcap_ISCX</li>\n",
    "    </ul>\n",
    "</div>"
   ]
  },
  {
   "cell_type": "code",
   "execution_count": null,
   "id": "4ece1b13-2e97-4234-8473-63732d73d7c7",
   "metadata": {},
   "outputs": [],
   "source": [
    "df_5_2 = pd.read_csv(\"../datasets/CIC-IDS2017/MachineLearningCVE/Friday-WorkingHours-Afternoon-PortScan.pcap_ISCX.csv\", low_memory=False)\n",
    "\n",
    "df_5_2_labels = prep_df(df_5_2,labels = True)"
   ]
  },
  {
   "cell_type": "markdown",
   "id": "63ec43e7-ac6a-4680-9090-214c9fa3df7c",
   "metadata": {},
   "source": [
    "<div style=\"font-size: 30px; font-family: 'Segoe UI', Tahoma, Geneva, Verdana, sans-serif; margin-top: 20px; line-height: 1.6;\">\n",
    "    <ul style=\"margin-left: 15px;\">\n",
    "        <li>  df_5_3 - Friday-WorkingHours-Afternoon-DDos & df_5 = df_5_1 + df_5_2 + df_5_3</li>\n",
    "    </ul>\n",
    "</div>"
   ]
  },
  {
   "cell_type": "code",
   "execution_count": null,
   "id": "e3403a84-ae78-4e17-86c8-fda3f71043ec",
   "metadata": {},
   "outputs": [],
   "source": [
    "df_5_3 = pd.read_csv(\"../datasets/CIC-IDS2017/MachineLearningCVE/Friday-WorkingHours-Afternoon-DDos.pcap_ISCX.csv\", low_memory=False)\n",
    "\n",
    "df_5_3_labels = prep_df(df_5_3,labels = True)\n",
    "\n",
    "df_5 = pd.concat([df_5_1,df_5_2,df_5_3], ignore_index = True)\n",
    "df_5_labels = pd.concat([df_5_1_labels,df_5_2_labels,df_5_3_labels], ignore_index = True)\n",
    "print(\"Flows during the day: \", len(df_5),len(df_5_labels))"
   ]
  },
  {
   "cell_type": "markdown",
   "id": "e1a70b71-e42d-40f5-87be-ee44c5d71db8",
   "metadata": {},
   "source": [
    "<div style=\"margin-left: 38px; font-size: 30px; font-family: 'Segoe UI', Tahoma, Geneva, Verdana, sans-serif; margin-top: 20px; line-height: 1.6;\">\n",
    "    <div>4. Skalowanie danych:</div>\n",
    "\n",
    "</div>"
   ]
  },
  {
   "cell_type": "code",
   "execution_count": null,
   "id": "ad36c0e4-13fb-4acc-8069-e11137be8abe",
   "metadata": {},
   "outputs": [],
   "source": [
    "\n",
    "df_2_scaled = pd.DataFrame(\n",
    "    scaler.transform(df_2),\n",
    "    columns=df_2.columns  \n",
    ")\n",
    "\n",
    "\n",
    "df_2_5_scaled = pd.DataFrame(\n",
    "    scaler.transform(df_2_5),\n",
    "    columns=df_2_5.columns  \n",
    ")\n",
    "\n",
    "df_3_scaled = pd.DataFrame(\n",
    "    scaler.transform(df_3),\n",
    "    columns=df_3.columns  \n",
    ")\n",
    "\n",
    "\n",
    "df_3_5_scaled = pd.DataFrame(\n",
    "    scaler.transform(df_3_5),\n",
    "    columns=df_3_5.columns  \n",
    ")\n",
    "\n",
    "df_4_scaled = pd.DataFrame(\n",
    "    scaler.transform(df_4),\n",
    "    columns=df_4.columns  \n",
    ")\n",
    "\n",
    "df_5_scaled = pd.DataFrame(\n",
    "    scaler.transform(df_5),\n",
    "    columns=df_5.columns  \n",
    ")\n",
    "\n",
    "print(df_3_scaled.isna().any(axis=1).sum())"
   ]
  },
  {
   "cell_type": "markdown",
   "id": "faf2393c-9924-40c9-b3b9-7e22266b13b8",
   "metadata": {},
   "source": [
    "<div style=\"\n",
    "    text-align: center;\n",
    "    font-weight: bold;\n",
    "    font-size: 52px;\n",
    "    font-family: 'Segoe UI', Tahoma, Geneva, Verdana, sans-serif;\n",
    "    margin-top: 50px;\n",
    "    margin-bottom: 30px;\n",
    "    padding: 25px 0;\n",
    "    color: #ffffff;\n",
    "    background: linear-gradient(90deg, #0f0f0f 0%, #1e1e1e 100%);\n",
    "    border-top: 4px solid #4ec9b0;\n",
    "    border-bottom: 4px solid #4ec9b0;\n",
    "    box-shadow: 0 0 100px rgba(78, 201, 176, 0.3), 0 2px 10px rgba(0,0,0,0.6);\n",
    "    letter-spacing: 1px;\n",
    "\">\n",
    "   Isolation forest - algorytm  wykrywania anomali\n",
    "</div>\n"
   ]
  },
  {
   "cell_type": "markdown",
   "id": "e74d3a8c-2028-47ed-9308-2c9ef16592d0",
   "metadata": {},
   "source": [
    "<div style=\"text-align: center; font-weight: bold; font-size: 35px; font-family: 'Segoe UI', Tahoma, Geneva, Verdana, sans-serif; margin-top: 30px; margin-bottom: 20px; padding: 10px 0; border-top: 2px solid #666; border-bottom: 2px solid #666;\">\n",
    " 1. Trenowanie na normalnym ruchu\n",
    "</div>"
   ]
  },
  {
   "cell_type": "code",
   "execution_count": null,
   "id": "bfd83957-b3bd-4315-9c13-6e0b68a0b4d2",
   "metadata": {},
   "outputs": [],
   "source": [
    "IF = IsolationForest(\n",
    "    n_estimators=250,\n",
    "    max_samples=8192, \n",
    "    contamination= 0.01, #PRAKTYCZNIE NIE ISTOTNE DO PRZEWIDYWAN MODELU, ISTOTNE TYLKO PRZY ZWRACANIU WYNIKOW ZE STATYSTYK\n",
    "    max_features=1.0, \n",
    "    bootstrap=False, \n",
    "    n_jobs=None, \n",
    "    random_state=33, \n",
    "    verbose=1, \n",
    "    warm_start=False\n",
    ")\n",
    "params_str = '\\n'.join(f'{k}: {v}' for k, v in IF.get_params().items())\n",
    "log(\"Parametry modelu:\\n\" + params_str)\n",
    "\n",
    "IF.fit(df_1_scaled)"
   ]
  },
  {
   "cell_type": "markdown",
   "id": "6e426617-b4c3-4030-9d3c-1c9d80d0f848",
   "metadata": {},
   "source": [
    "<div style=\"text-align: center; font-weight: bold; font-size: 35px; font-family: 'Segoe UI', Tahoma, Geneva, Verdana, sans-serif; margin-top: 30px; margin-bottom: 20px; padding: 10px 0; border-top: 2px solid #666; border-bottom: 2px solid #666;\">\n",
    " Testy na danych\n",
    "</div>"
   ]
  },
  {
   "cell_type": "markdown",
   "id": "c7add158-fa6c-4d23-ad27-1977ebdc1f09",
   "metadata": {},
   "source": [
    "\n",
    "<div style=\"margin-left: 38px; font-size: 30px; font-family: 'Segoe UI', Tahoma, Geneva, Verdana, sans-serif; margin-top: 20px; line-height: 1.6;\">\n",
    "    <div>2.1 Wizualizacja efektu testu na danych Tuesday-workingHours Atacks pnly</div>\n",
    "</div>"
   ]
  },
  {
   "cell_type": "code",
   "execution_count": null,
   "id": "e35cc3a0-6529-4eec-ae51-eeebeffa424e",
   "metadata": {
    "scrolled": true
   },
   "outputs": [],
   "source": [
    "preds_2_5 = IF.predict(df_2_5_scaled)\n",
    "scores_2_5 = IF.score_samples(df_2_5_scaled)\n",
    "\n",
    "df_2_5_scaled_result = pd.DataFrame()\n",
    "df_2_5_scaled_result['prediction'] = preds_2_5\n",
    "df_2_5_scaled_result['anomaly_score'] = scores_2_5\n",
    "\n",
    "\n",
    "anomaly_2_5 = (df_2_5_scaled_result[\"prediction\"] == -1).sum()\n",
    "normal_2_5 = (df_2_5_scaled_result[\"prediction\"] == 1).sum()\n",
    "\n",
    "print(\"\\n\" , f\"Detection distribution anomaly/normal: {anomaly_2_5 / len(df_2_5_scaled_result) * 100:.4f}% / {normal_2_5 / len(df_2_5_scaled_result) * 100:.4f}%\")\n",
    "print(\"!!! Wyniki pokazuje dopasowanie contamination (wyciagancia wnioskow z gotowego produktu pracy modelu) NIE DCHYLENIA NORMALNY/ANOMALYJNY ruch sieciowy !!!\")\n",
    "print(\"Anomaly detected: \",anomaly_2_5)\n",
    "print(\"Normal traffic: \",normal_2_5)\n",
    "plt.figure(figsize=(14, 6))\n",
    "\n",
    "plt.scatter(df_2_5_scaled_result.index, df_2_5_scaled_result['anomaly_score'], color='blue', label='Anomaly Score', s=10)\n",
    "\n",
    "plt.title('Anomaly Scores for All Data Points (IsolationForest)')\n",
    "plt.xlabel('Data Point Index')\n",
    "plt.ylabel('Anomaly Score')\n",
    "plt.legend()\n",
    "plt.grid(True)\n",
    "plt.tight_layout()\n",
    "plt.ylim(top=0)\n",
    "plt.show()\n"
   ]
  },
  {
   "cell_type": "markdown",
   "id": "7ecffef1-1292-4ea1-94b7-a6a23db89cab",
   "metadata": {},
   "source": [
    "<div style=\"margin-left: 38px; font-size: 30px; font-family: 'Segoe UI', Tahoma, Geneva, Verdana, sans-serif; margin-top: 20px; line-height: 1.6;\">\n",
    "    <div>2.2 Wizualizacja efektu testu na danych Tuesday-workingHours</div>\n",
    "</div>"
   ]
  },
  {
   "cell_type": "code",
   "execution_count": null,
   "id": "4098d948-955e-4483-a20c-121ed1a97718",
   "metadata": {},
   "outputs": [],
   "source": [
    "preds_2 = IF.predict(df_2_scaled)\n",
    "scores_2 = IF.score_samples(df_2_scaled)\n",
    "\n",
    "df_2_scaled_result = pd.DataFrame()\n",
    "df_2_scaled_result['prediction'] = preds_2\n",
    "df_2_scaled_result['anomaly_score'] = scores_2\n",
    "\n",
    "\n",
    "anomaly_2 = (df_2_scaled_result[\"prediction\"] == -1).sum()\n",
    "normal_2 = (df_2_scaled_result[\"prediction\"] == 1).sum()\n",
    "\n",
    "log( f\"2.2 Wizualizacja efektu testu na danych Tuesday-workingHours\", level=[\"start\",\"Isolation_forest\"])\n",
    "log(f\"Detection distribution anomaly/normal: {anomaly_2 / len(df_2_scaled_result) * 100:.4f}% / {normal_2 / len(df_2_scaled_result) * 100:.4f}%\")\n",
    "log(\"!!! Wyniki pokazuje dopasowanie contamination (wyciagania wnioskow z gotowego produktu pracy modelu) NIE DCHYLENIA NORMALNY/ANOMALYJNY ruch sieciowy !!!\")\n",
    "log(f\"Anomaly detected: {anomaly_2}\")\n",
    "log(f\"Normal traffic: {normal_2}\")\n",
    "\n",
    "plt.figure(figsize=(14, 6))  # szeroki wykres\n",
    "\n",
    "plt.scatter(df_2_scaled_result.index, df_2_scaled_result['anomaly_score'], color='blue', label='Anomaly Score', s=10)\n",
    "\n",
    "plt.title('Anomaly Scores for All Data Points (IsolationForest)')\n",
    "plt.xlabel('Data Point Index')\n",
    "plt.ylabel('Anomaly Score')\n",
    "plt.legend()\n",
    "plt.grid(True)\n",
    "plt.tight_layout()\n",
    "plt.ylim(top=0)\n",
    "plt.show()"
   ]
  },
  {
   "cell_type": "code",
   "execution_count": null,
   "id": "a96de74a-4772-4edb-bfa4-8c0330f6dd9c",
   "metadata": {},
   "outputs": [],
   "source": [
    "scores_train = IF.score_samples(df_1_scaled)\n",
    "\n",
    "# score_samples dla danych testowych (z anomaliami)\n",
    "scores_test = scores_2\n",
    "\n",
    "plt.figure(figsize=(12,6))\n",
    "\n",
    "# Histogram dla danych treningowych\n",
    "plt.hist(scores_train, bins=50, alpha=0.6, label='Training data', color='green', density=True)\n",
    "\n",
    "# Histogram dla danych testowych\n",
    "plt.hist(scores_test, bins=50, alpha=0.6, label='Test data (df_2_scaled)', color='red', density=True)\n",
    "\n",
    "plt.title('Histogram score_samples (Anomaly Scores)')\n",
    "plt.xlabel('Anomaly Score (higher = more normal)')\n",
    "plt.ylabel('Density')\n",
    "plt.legend()\n",
    "plt.grid(True)\n",
    "plt.show()"
   ]
  },
  {
   "cell_type": "markdown",
   "id": "f0e7c520-5c1f-45d3-8116-41d584680c11",
   "metadata": {},
   "source": [
    "<div style=\"margin-left: 38px; font-size: 30px; font-family: 'Segoe UI', Tahoma, Geneva, Verdana, sans-serif; margin-top: 20px; line-height: 1.6;\">\n",
    "    <div>2.3 Sprawdzenie dokładniści wytrenowanego modelu na Tuesday-workingHours</div>\n",
    "</div>"
   ]
  },
  {
   "cell_type": "code",
   "execution_count": null,
   "id": "2a3284cd-7790-476c-9365-17c2bca58a5b",
   "metadata": {},
   "outputs": [],
   "source": [
    "df_2_scaled_result_check = pd.concat([df_2_scaled,df_2_scaled_result, df_2_labels], axis=1)\n",
    "#print(len(df_2_scaled_result),len(df_2_labels),len(df_2_scaled_result_check))\n",
    "# print(df_2_scaled_result.index)\n",
    "# print(df_2_labels.index)\n",
    "# print(df_2_scaled_result_check.head)\n",
    "log(\"2.3 Sprawdzenie dokładniści wytrenowanego modelu na Tuesday-workingHours\",level = [\"start\",\"Isolation_forest\"])\n",
    "log(f\"Number of flows in Tuesday - Working Hours: {len(df_2_scaled_result_check)}\")\n",
    "\n",
    "df_2_real_anomaly_count = (df_2_scaled_result_check[\"Label\"] != \"BENIGN\").sum()\n",
    "\n",
    "log(\"Correct data: \")\n",
    "log(f\"Real number of anomalies in Tuesday - Working Hours: {df_2_real_anomaly_count}\")\n",
    "log(f\"Procentage of anomlys in dataset: {df_2_real_anomaly_count / len(df_2_scaled_result_check) * 100:.4f}%\")\n",
    "\n",
    "df_2_predicted_anomaly_count = (df_2_scaled_result_check[\"prediction\"] == -1).sum()\n",
    "\n",
    "log(\"Predicted data: \")\n",
    "log(f\"Number of DETECTED anomalies in Tuesday - Working Hours: {df_2_predicted_anomaly_count}\")\n",
    "log(f\"Procentage of anomlys in dataset: {df_2_predicted_anomaly_count / len(df_2_scaled_result_check) * 100:.4f}%\")\n",
    "\n",
    "TP = ((df_2_scaled_result_check[\"Label\"] != \"BENIGN\") & (df_2_scaled_result_check[\"prediction\"] == -1)).sum()\n",
    "FP = df_2_predicted_anomaly_count - TP\n",
    "FN = df_2_real_anomaly_count - TP\n",
    "TN = len(df_2_scaled_result_check) - TP - FP - FN\n",
    "\n",
    "log(f\"\\nNumber of correct predictions: {TP}\")\n",
    "log(f\"Accuracy of predictions: {((TP + TN) / len(df_2_scaled_result_check)) * 100:.4f}%\")\n",
    "log(f\"Sensitivity of predictions: {(TP / df_2_real_anomaly_count) * 100:.4f}%\")\n",
    "log(f\"Precision of predictions: {(TP / df_2_predicted_anomaly_count) * 100:.4f}%\")\n",
    "\n",
    "# print(\"TP: \",TP)\n",
    "# print(\"FP: \",FP)\n",
    "# print(\"TN: \",TN)\n",
    "# print(\"FN: \",FN)\n",
    "\n",
    "# pd.set_option('display.max_rows', 200)\n",
    "# print(df_2_scaled_result_check[df_2_scaled_result_check[\"prediction\"] == -1])\n",
    "# pd.reset_option('display.max_rows')"
   ]
  },
  {
   "cell_type": "markdown",
   "id": "96138199-1bbc-443f-8b6e-7bfde5c63f1f",
   "metadata": {},
   "source": [
    "<div style=\"margin-left: 38px; font-size: 30px; font-family: 'Segoe UI', Tahoma, Geneva, Verdana, sans-serif; margin-top: 20px; line-height: 1.6;\">\n",
    "    <div>3.1 Wizualizacja efektu testu na danych Wednesday-WorkingHours - Tylko ataki</div>\n",
    "</div>"
   ]
  },
  {
   "cell_type": "code",
   "execution_count": null,
   "id": "d754b0b2-0293-4152-9bb0-26febc84a35a",
   "metadata": {},
   "outputs": [],
   "source": [
    "preds_3_5 = IF.predict(df_3_5_scaled)\n",
    "scores_3_5 = IF.score_samples(df_3_5_scaled)\n",
    "\n",
    "df_3_5_scaled_result = pd.DataFrame()\n",
    "df_3_5_scaled_result['prediction'] = preds_3_5\n",
    "df_3_5_scaled_result['anomaly_score'] = scores_3_5\n",
    "\n",
    "\n",
    "anomaly_3_5 = (df_3_5_scaled_result[\"prediction\"] == -1).sum()\n",
    "normal_3_5 = (df_3_5_scaled_result[\"prediction\"] == 1).sum()\n",
    "\n",
    "print(f\"Detection distribution anomaly/normal: {anomaly_3_5 / len(df_3_5_scaled_result) * 100:.4f}% / {normal_3_5 / len(df_3_5_scaled_result) * 100:.4f}%\")\n",
    "print(\"!!! Wyniki pokazuje dopasowanie contamination (wyciagancia wnioskow z gotowego produktu pracy modelu) NIE DCHYLENIA NORMALNY/ANOMALYJNY ruch sieciowy !!!\")\n",
    "print(f\"Anomaly detected: {anomaly_3_5}\")\n",
    "print(f\"Normal traffic: {normal_3_5}\")\n",
    "plt.figure(figsize=(14, 6))\n",
    "\n",
    "plt.scatter(df_3_5_scaled_result.index, df_3_5_scaled_result['anomaly_score'], color='blue', label='Anomaly Score', s=10)\n",
    "\n",
    "plt.title('Anomaly Scores for All Data Points (IsolationForest)')\n",
    "plt.xlabel('Data Point Index')\n",
    "plt.ylabel('Anomaly Score')\n",
    "plt.legend()\n",
    "plt.grid(True)\n",
    "plt.tight_layout()\n",
    "plt.ylim(top=0)\n",
    "plt.show()\n"
   ]
  },
  {
   "cell_type": "markdown",
   "id": "3dcc40cb-4b2e-40a7-b1c7-c1acde0cc85f",
   "metadata": {},
   "source": [
    "<div style=\"margin-left: 38px; font-size: 30px; font-family: 'Segoe UI', Tahoma, Geneva, Verdana, sans-serif; margin-top: 20px; line-height: 1.6;\">\n",
    "    <div>3.2 Wizualizacja efektu testu na danych i sprawdzenie dokładniści wytrenowanego modelu Wednesday-WorkingHours</div>\n",
    "</div>\n"
   ]
  },
  {
   "cell_type": "code",
   "execution_count": null,
   "id": "276ea402-729f-4c5b-922f-7c14decb4e27",
   "metadata": {},
   "outputs": [],
   "source": [
    "df_3_scaled_result_check = pd.DataFrame()\n",
    "df_3_scaled_result_check = test_IF_model(IF, df_3_scaled, df_3_labels, name=\"Wednesday-WorkingHours\")"
   ]
  },
  {
   "cell_type": "markdown",
   "id": "4526389c-ea4c-406e-9060-4ed1e8e3162d",
   "metadata": {},
   "source": [
    "<div style=\"margin-left: 38px; font-size: 30px; font-family: 'Segoe UI', Tahoma, Geneva, Verdana, sans-serif; margin-top: 20px; line-height: 1.6;\">\n",
    "    <div>3.4 Analiza niewyłapanych ataków Wednesday-WorkingHours</div>\n",
    "</div>"
   ]
  },
  {
   "cell_type": "code",
   "execution_count": null,
   "id": "d60cbafa-a310-4f13-a444-7d6ff50f2c68",
   "metadata": {},
   "outputs": [],
   "source": [
    "\n",
    "df_3_real_anomaly = df_3_scaled_result_check[df_3_scaled_result_check[\"Label\"] != \"BENIGN\"].copy()\n",
    "df_3_real_anomaly = df_3_real_anomaly.reset_index(drop=True)\n",
    "df_3_real_anomaly_no_label = df_3_real_anomaly.drop([\"Label\",'prediction','anomaly_score'], axis = 1)\n",
    "\n",
    "preds_3_real = IF.predict(df_3_real_anomaly_no_label)\n",
    "scores_3_real = IF.score_samples(df_3_real_anomaly_no_label)\n",
    "\n",
    "\n",
    "df_3_real_anomaly['prediction'] = preds_3_real\n",
    "df_3_real_anomaly['anomaly_score'] = scores_3_real\n",
    "\n",
    "print((df_3_real_anomaly['prediction'] == 1).sum(), len(df_3_real_anomaly))\n",
    "df_3_real_anomaly = df_3_real_anomaly[df_3_real_anomaly['prediction'] != -1]\n",
    "df_3_real_anomaly = df_3_real_anomaly.reset_index(drop=True)\n",
    "\n",
    "plt.figure(figsize=(14, 6))  # szeroki wykres\n",
    "\n",
    "plt.scatter(df_3_real_anomaly.index, df_3_real_anomaly['anomaly_score'], color='blue', label='Anomaly Score', s=10)\n",
    "\n",
    "plt.title('Anomaly Scores for All Data Points (IsolationForest)')\n",
    "plt.xlabel('Data Point Index')\n",
    "plt.ylabel('Anomaly Score')\n",
    "plt.legend()\n",
    "plt.grid(True)\n",
    "plt.tight_layout()\n",
    "plt.ylim(top=0)\n",
    "plt.show()"
   ]
  },
  {
   "cell_type": "markdown",
   "id": "8e7332d5-aebe-436e-aec2-2cf8de4b53a2",
   "metadata": {},
   "source": [
    "<div style=\"margin-left: 38px; font-size: 30px; font-family: 'Segoe UI', Tahoma, Geneva, Verdana, sans-serif; margin-top: 20px; line-height: 1.6;\">\n",
    "    <div>4 Sprawdzenie dokładności modelu na Thursday</div>\n",
    "</div>"
   ]
  },
  {
   "cell_type": "code",
   "execution_count": null,
   "id": "ee4b8548-ad55-45c1-bf34-a4f9dbfb98fc",
   "metadata": {},
   "outputs": [],
   "source": [
    "df_4_scaled_result_check = test_IF_model(IF,df_4_scaled,df_4_labels, name=\"Thursday\")"
   ]
  },
  {
   "cell_type": "markdown",
   "id": "c5050828-1be9-48ae-9fe5-bdca064cd193",
   "metadata": {},
   "source": [
    "<div style=\"margin-left: 38px; font-size: 30px; font-family: 'Segoe UI', Tahoma, Geneva, Verdana, sans-serif; margin-top: 20px; line-height: 1.6;\">\n",
    "    <div>5 Sprawdzenie dokładności modelu na Friday</div>\n",
    "</div>"
   ]
  },
  {
   "cell_type": "code",
   "execution_count": null,
   "id": "c00deec6-b235-42ce-9617-a34ed86101f9",
   "metadata": {},
   "outputs": [],
   "source": [
    "df_5_scaled_result_check = test_IF_model(IF,df_5_scaled,df_5_labels, name=\"Friday\")"
   ]
  },
  {
   "cell_type": "markdown",
   "id": "7a436db3-938f-4738-8af7-3d70f2b82331",
   "metadata": {},
   "source": [
    "<div style=\"\n",
    "    text-align: center;\n",
    "    font-weight: bold;\n",
    "    font-size: 52px;\n",
    "    font-family: 'Segoe UI', Tahoma, Geneva, Verdana, sans-serif;\n",
    "    margin-top: 50px;\n",
    "    margin-bottom: 30px;\n",
    "    padding: 25px 0;\n",
    "    color: #ffffff;\n",
    "    background: linear-gradient(90deg, #0f0f0f 0%, #1e1e1e 100%);\n",
    "    border-top: 4px solid #4ec9b0;\n",
    "    border-bottom: 4px solid #4ec9b0;\n",
    "    box-shadow: 0 0 100px rgba(78, 201, 176, 0.3), 0 2px 10px rgba(0,0,0,0.6);\n",
    "    letter-spacing: 1px;\n",
    "\">\n",
    "   Summary\n",
    "</div>"
   ]
  },
  {
   "cell_type": "code",
   "execution_count": null,
   "id": "7ef92f5b-3d56-4e4b-a5f3-5490fc237a12",
   "metadata": {},
   "outputs": [],
   "source": [
    "df_scaled = pd.concat([df_2_scaled, df_3_scaled, df_4_scaled, df_5_scaled], ignore_index = True)\n",
    "df_labels = pd.concat([df_2_labels, df_3_labels, df_4_labels, df_5_labels], ignore_index = True)\n",
    "df_scaled_result_check = test_IF_model(IF,df_scaled,df_labels)\n",
    "\n"
   ]
  },
  {
   "cell_type": "markdown",
   "id": "3d4c96bf-836f-42f5-9641-c0125667b952",
   "metadata": {},
   "source": [
    "<div style=\"text-align: center;color:#66ff7d; font-size: 50px; font-family: 'OCR A Extended', 'Lucida Console', 'Monaco', monospace; margin-top: 20px; line-height: 1.6;\">\n",
    "    df save\n",
    "\n",
    "</div>"
   ]
  },
  {
   "cell_type": "code",
   "execution_count": null,
   "id": "fd2a4c4f-679e-454f-88ef-ed3ef790fb8c",
   "metadata": {},
   "outputs": [],
   "source": [
    "# df_1_scaled.to_hdf('parsed_data/segmented_CICIDS2017.h5', key='df_1_scaled', mode='w')  # mode='w' to create/overwrite file\n",
    "# df_2_scaled.to_hdf('parsed_data/segmented_CICIDS2017.h5', key='df_2_scaled', mode='a')\n",
    "# df_2_labels.to_hdf('parsed_data/segmented_CICIDS2017.h5', key='df_2_labels', mode='a')\n",
    "# df_3_scaled.to_hdf('parsed_data/segmented_CICIDS2017.h5', key='df_3_scaled', mode='a')\n",
    "# df_3_labels.to_hdf('parsed_data/segmented_CICIDS2017.h5', key='df_3_labels', mode='a')\n",
    "# df_4_scaled.to_hdf('parsed_data/segmented_CICIDS2017.h5', key='df_4_scaled', mode='a')\n",
    "# df_4_labels.to_hdf('parsed_data/segmented_CICIDS2017.h5', key='df_4_labels', mode='a')\n",
    "# df_5_scaled.to_hdf('parsed_data/segmented_CICIDS2017.h5', key='df_5_scaled', mode='a')\n",
    "# df_5_labels.to_hdf('parsed_data/segmented_CICIDS2017.h5', key='df_5_labels', mode='a')\n",
    "\n",
    "\n",
    "# df_scaled.to_hdf('parsed_data/merged_CICIDS2017.h5', key='df_scaled', mode='w')\n",
    "# df_labels.to_hdf('parsed_data/merged_CICIDS2017.h5', key='df_labels', mode='a')\n",
    "\n",
    "# df_2_scaled_result_check.to_hdf('parsed_data/IF_segmented_CICIDS2017.h5', key='df_2_scaled_result_check', mode='w')  \n",
    "# df_3_scaled_result_check.to_hdf('parsed_data/IF_segmented_CICIDS2017.h5', key='df_3_scaled_result_check', mode='a')\n",
    "# df_4_scaled_result_check.to_hdf('parsed_data/IF_segmented_CICIDS2017.h5', key='df_4_scaled_result_check', mode='a')\n",
    "# df_5_scaled_result_check.to_hdf('parsed_data/IF_segmented_CICIDS2017.h5', key='df_5_scaled_result_check', mode='a')\n",
    "\n",
    "# df_scaled_result_check.to_hdf('parsed_data/IF_merged_CICIDS2017.h5', key='df_5_scaled_result_check', mode='w')\n",
    "\n",
    "# print(\"Data saved\")"
   ]
  },
  {
   "cell_type": "code",
   "execution_count": null,
   "id": "401a5ac3-f36d-4429-b5d0-f207b6a71377",
   "metadata": {},
   "outputs": [],
   "source": []
  }
 ],
 "metadata": {
  "kernelspec": {
   "display_name": "Python (venv_AD)",
   "language": "python",
   "name": "venv_ad"
  },
  "language_info": {
   "codemirror_mode": {
    "name": "ipython",
    "version": 3
   },
   "file_extension": ".py",
   "mimetype": "text/x-python",
   "name": "python",
   "nbconvert_exporter": "python",
   "pygments_lexer": "ipython3",
   "version": "3.11.2"
  }
 },
 "nbformat": 4,
 "nbformat_minor": 5
}
