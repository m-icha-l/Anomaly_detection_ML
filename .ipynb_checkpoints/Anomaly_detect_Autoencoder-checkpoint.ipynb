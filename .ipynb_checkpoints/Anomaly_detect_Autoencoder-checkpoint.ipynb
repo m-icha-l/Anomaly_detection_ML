{
 "cells": [
  {
   "cell_type": "code",
   "execution_count": 1,
   "id": "48b3f13b-cf52-46cc-bbb0-c4fee283cb34",
   "metadata": {},
   "outputs": [
    {
     "name": "stdout",
     "output_type": "stream",
     "text": [
      "Autoencoder\n"
     ]
    }
   ],
   "source": [
    "from sklearn.preprocessing import StandardScaler\n",
    "from sklearn.ensemble import IsolationForest\n",
    "from sklearn.metrics import classification_report\n",
    "import pandas as pd\n",
    "import matplotlib.pyplot as plt  \n",
    "import numpy as np\n",
    "import logging\n",
    "from datetime import datetime\n",
    "from funs import *\n",
    "\n",
    "log(\"START\",level = (\"start\",\"Autoencoder\"))"
   ]
  },
  {
   "cell_type": "code",
   "execution_count": null,
   "id": "f7ce6358-cca7-4f43-9d60-1de82615bae5",
   "metadata": {},
   "outputs": [],
   "source": []
  }
 ],
 "metadata": {
  "kernelspec": {
   "display_name": "Python (venv_AD)",
   "language": "python",
   "name": "venv_ad"
  },
  "language_info": {
   "codemirror_mode": {
    "name": "ipython",
    "version": 3
   },
   "file_extension": ".py",
   "mimetype": "text/x-python",
   "name": "python",
   "nbconvert_exporter": "python",
   "pygments_lexer": "ipython3",
   "version": "3.11.2"
  }
 },
 "nbformat": 4,
 "nbformat_minor": 5
}
