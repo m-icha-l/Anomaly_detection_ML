{
 "cells": [
  {
   "cell_type": "code",
   "execution_count": 1,
   "id": "48b3f13b-cf52-46cc-bbb0-c4fee283cb34",
   "metadata": {},
   "outputs": [
    {
     "name": "stdout",
     "output_type": "stream",
     "text": [
      "PyTorch works!\n",
      "Autoencoder\n"
     ]
    }
   ],
   "source": [
    "import numpy as np\n",
    "import pandas as pd\n",
    "from sklearn.metrics import precision_score, recall_score, f1_score\n",
    "from funs import *\n",
    "import torch\n",
    "import torch.nn as nn\n",
    "print(\"PyTorch works!\")\n",
    "log(\"START\",level = (\"start\",\"Autoencoder\"))"
   ]
  },
  {
   "cell_type": "code",
   "execution_count": null,
   "id": "f7ce6358-cca7-4f43-9d60-1de82615bae5",
   "metadata": {},
   "outputs": [],
   "source": [
    "print(\"hi\")"
   ]
  },
  {
   "cell_type": "code",
   "execution_count": null,
   "id": "82982f53-26db-448a-a557-75b1d1b5353f",
   "metadata": {},
   "outputs": [],
   "source": [
    "#from tensorflow.keras import layers, models"
   ]
  }
 ],
 "metadata": {
  "kernelspec": {
   "display_name": "Python (venv_AD)",
   "language": "python",
   "name": "venv_ad"
  },
  "language_info": {
   "codemirror_mode": {
    "name": "ipython",
    "version": 3
   },
   "file_extension": ".py",
   "mimetype": "text/x-python",
   "name": "python",
   "nbconvert_exporter": "python",
   "pygments_lexer": "ipython3",
   "version": "3.11.2"
  }
 },
 "nbformat": 4,
 "nbformat_minor": 5
}
